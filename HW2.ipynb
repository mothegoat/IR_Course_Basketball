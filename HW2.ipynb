{
 "cells": [
  {
   "cell_type": "markdown",
   "metadata": {},
   "source": [
    "<h1><center>به نام خدا</center></h1>"
   ]
  },
  {
   "cell_type": "markdown",
   "metadata": {},
   "source": [
    "<span style=\"color:Red\">\n",
    "<h2><center>محمدابول نژادیان</center></h2>\n",
    "<h4><center>98103867</center></h4>\n",
    "</span>\n",
    "<h4><center>تمرین دوم درس بازیابی اطلاعات</center></h4>\n",
    "<h5><center>بهار ۱۴۰۱</center></h5>\n"
   ]
  },
  {
   "cell_type": "markdown",
   "metadata": {},
   "source": [
    "<div dir=\"rtl\">\n",
    "چکیده:<br />\n",
    "در این نوت بوک، قرار است تا اطلاعات بسکتبال لیگ ایران و لیگ NBA را ابتدا استخراج، و سپس به تحلیل و بررسی آنها و مقایسه آن ها بپردازیم.<br />\n",
    "این تحلیل و مقایسه طی سه تسک زیر انجام میشود:<br />\n",
    "<ol>\n",
    "<li>مقایسه تیم های NBA بر اساس نسبت برد تیم به مجموع دستمزد بازیکنان آن تیم</li>\n",
    "<li>مقایسه عملکرد بازیکنان لیگ برتر ایران با بازیکنان لیگ NBA بر اساس معیار PER36 که در بخش این تسک توضیح داده میشود.</li>\n",
    "<li>تحلیل کلمات و نام های پربسامد بر اساس اخبار بسکتبالی سایت <a href=\"https://www.varzesh3.com/news?SportType=4&StartDate=&EndDate=\"> ورزش ۳</a></li>\n",
    "</ol>\n",
    "قبل از انجامی تمامی این تسک ها، نیاز به داده داریم. این داده ها قرار است تا از سه سایت زیر crawl شوند و با ابزار هایی که در ادامه به توضیح آنها خواهیم پرداخت، اطلاعات را پیش پردازش کنیم و تسک های مطلوب را انجام دهیم.\n",
    "\n",
    "</div>"
   ]
  },
  {
   "cell_type": "markdown",
   "metadata": {},
   "source": [
    "<div dir=\"rtl\">\n",
    "<center>\n",
    "ابتدا با اجرا کردن بلوک کد زیرین، کتابخانه های مورد نیاز را دریافت کنید.\n",
    "</center>\n",
    "</div>"
   ]
  },
  {
   "cell_type": "code",
   "execution_count": 5,
   "metadata": {},
   "outputs": [
    {
     "name": "stdout",
     "output_type": "stream",
     "text": [
      "\u001b[33mDEPRECATION: Configuring installation scheme with distutils config files is deprecated and will no longer work in the near future. If you are using a Homebrew or Linuxbrew Python, please see discussion at https://github.com/Homebrew/homebrew-core/issues/76621\u001b[0m\u001b[33m\n",
      "\u001b[0mRequirement already satisfied: hazm in /opt/homebrew/lib/python3.9/site-packages (0.7.0)\n",
      "Requirement already satisfied: libwapiti>=0.2.1 in /opt/homebrew/lib/python3.9/site-packages (from hazm) (0.2.1)\n",
      "Requirement already satisfied: nltk==3.3 in /opt/homebrew/lib/python3.9/site-packages (from hazm) (3.3)\n",
      "Requirement already satisfied: six in /opt/homebrew/lib/python3.9/site-packages (from nltk==3.3->hazm) (1.16.0)\n",
      "\u001b[33mDEPRECATION: Configuring installation scheme with distutils config files is deprecated and will no longer work in the near future. If you are using a Homebrew or Linuxbrew Python, please see discussion at https://github.com/Homebrew/homebrew-core/issues/76621\u001b[0m\u001b[33m\n",
      "\u001b[0m\u001b[33mDEPRECATION: Configuring installation scheme with distutils config files is deprecated and will no longer work in the near future. If you are using a Homebrew or Linuxbrew Python, please see discussion at https://github.com/Homebrew/homebrew-core/issues/76621\u001b[0m\u001b[33m\n",
      "\u001b[0mRequirement already satisfied: beautifulsoup4 in /opt/homebrew/lib/python3.9/site-packages (4.11.1)\n",
      "Requirement already satisfied: soupsieve>1.2 in /opt/homebrew/lib/python3.9/site-packages (from beautifulsoup4) (2.3.2.post1)\n",
      "\u001b[33mDEPRECATION: Configuring installation scheme with distutils config files is deprecated and will no longer work in the near future. If you are using a Homebrew or Linuxbrew Python, please see discussion at https://github.com/Homebrew/homebrew-core/issues/76621\u001b[0m\u001b[33m\n",
      "\u001b[0m\u001b[33mDEPRECATION: Configuring installation scheme with distutils config files is deprecated and will no longer work in the near future. If you are using a Homebrew or Linuxbrew Python, please see discussion at https://github.com/Homebrew/homebrew-core/issues/76621\u001b[0m\u001b[33m\n",
      "\u001b[0mRequirement already satisfied: lxml in /opt/homebrew/lib/python3.9/site-packages (4.5.1)\n",
      "\u001b[33mDEPRECATION: Configuring installation scheme with distutils config files is deprecated and will no longer work in the near future. If you are using a Homebrew or Linuxbrew Python, please see discussion at https://github.com/Homebrew/homebrew-core/issues/76621\u001b[0m\u001b[33m\n",
      "\u001b[0m\u001b[33mDEPRECATION: Configuring installation scheme with distutils config files is deprecated and will no longer work in the near future. If you are using a Homebrew or Linuxbrew Python, please see discussion at https://github.com/Homebrew/homebrew-core/issues/76621\u001b[0m\u001b[33m\n",
      "\u001b[0mRequirement already satisfied: requests in /opt/homebrew/lib/python3.9/site-packages (2.20.0)\n",
      "Requirement already satisfied: chardet<3.1.0,>=3.0.2 in /opt/homebrew/lib/python3.9/site-packages (from requests) (3.0.4)\n",
      "Requirement already satisfied: urllib3<1.25,>=1.21.1 in /opt/homebrew/lib/python3.9/site-packages (from requests) (1.24.3)\n",
      "Requirement already satisfied: certifi>=2017.4.17 in /opt/homebrew/lib/python3.9/site-packages (from requests) (2018.10.15)\n",
      "Requirement already satisfied: idna<2.8,>=2.5 in /opt/homebrew/lib/python3.9/site-packages (from requests) (2.7)\n",
      "\u001b[33mDEPRECATION: Configuring installation scheme with distutils config files is deprecated and will no longer work in the near future. If you are using a Homebrew or Linuxbrew Python, please see discussion at https://github.com/Homebrew/homebrew-core/issues/76621\u001b[0m\u001b[33m\n",
      "\u001b[0m\u001b[33mDEPRECATION: Configuring installation scheme with distutils config files is deprecated and will no longer work in the near future. If you are using a Homebrew or Linuxbrew Python, please see discussion at https://github.com/Homebrew/homebrew-core/issues/76621\u001b[0m\u001b[33m\n",
      "\u001b[0mRequirement already satisfied: basketball_reference_web_scraper in /opt/homebrew/lib/python3.9/site-packages (4.12.1)\n",
      "Requirement already satisfied: lxml==4.5.1 in /opt/homebrew/lib/python3.9/site-packages (from basketball_reference_web_scraper) (4.5.1)\n",
      "Requirement already satisfied: urllib3==1.24.3 in /opt/homebrew/lib/python3.9/site-packages (from basketball_reference_web_scraper) (1.24.3)\n",
      "Requirement already satisfied: chardet==3.0.4 in /opt/homebrew/lib/python3.9/site-packages (from basketball_reference_web_scraper) (3.0.4)\n",
      "Requirement already satisfied: idna==2.7 in /opt/homebrew/lib/python3.9/site-packages (from basketball_reference_web_scraper) (2.7)\n",
      "Requirement already satisfied: certifi==2018.10.15 in /opt/homebrew/lib/python3.9/site-packages (from basketball_reference_web_scraper) (2018.10.15)\n",
      "Requirement already satisfied: requests==2.20.0 in /opt/homebrew/lib/python3.9/site-packages (from basketball_reference_web_scraper) (2.20.0)\n",
      "Requirement already satisfied: pytz==2018.6 in /opt/homebrew/lib/python3.9/site-packages (from basketball_reference_web_scraper) (2018.6)\n",
      "\u001b[33mDEPRECATION: Configuring installation scheme with distutils config files is deprecated and will no longer work in the near future. If you are using a Homebrew or Linuxbrew Python, please see discussion at https://github.com/Homebrew/homebrew-core/issues/76621\u001b[0m\u001b[33m\n",
      "\u001b[0m"
     ]
    }
   ],
   "source": [
    "!pip install hazm\n",
    "!pip install beautifulsoup4\n",
    "!pip install lxml\n",
    "!pip install requests\n",
    "!pip install basketball_reference_web_scraper"
   ]
  },
  {
   "cell_type": "markdown",
   "metadata": {},
   "source": [
    "<hr>"
   ]
  },
  {
   "cell_type": "markdown",
   "metadata": {},
   "source": [
    "<div dir=\"rtl\">\n",
    "<h1>جمع آوری داده ها</h1>\n",
    "ابتدای امر باید داده های را جمع آوری کنیم.<br />\n",
    "برای این کار ابتدا با استفاده از کتابخانه <b>requests</b> داده ها را از سایت هایی که در ادامه آنها را معرفی میکنیم، جمع آوری میکنیم و آنها را در فایلی متنی در سیستم ذخیره میکنیم، سپس با استفاده از کتابخانه <b>BeautifulSoup4</b> داده های مورد نیازمان را از html خام که در بخش قبل دریافت کردیم استخراج میکنم.<br />\n",
    "با توجه به اینکه این داده ها خام هستند، نیاز داریم تا داده های به دست آمده را پیش پردازش و مرتب کنیم و فقط داده هایی که برای تسک هایمان نیاز داریم را نگه داریم.<br />\n",
    "داده هایمان را از سه سایت زیر دریافت میکنیم:\n",
    "<ul>\n",
    "<li><b><a href = \"http://iribf.ir/\">سایت رسمی فدراسیون بسکتبال ایران</a></b></li>\n",
    "\n",
    "یکی از مشکلاتی که این سایت دارد، یکسان نبودن فرمت اطلاعات در بخش های مختلف سایت است. همچنین برای دیدن عملکرد بازیکنان در هر بازی، این سایت به یک سایت دیگر redirect میشود که باز هم این یکی دیگر از چالش هایی است که باید آن را برطرف کنیم.<br />\n",
    "ما قصد داریم تا از این سایت صرفا اطلاعات فصل 99-00 را استخراج کنیم و در تسک های تعریف شده از آنها استفاده کنیم، اما شایان ذکر است که <b>زیرساختی که در این تمرین برای این سایت فراهم میشود،‌ با تغییراتی جزئی میتواند در آینده برای تحلیل لیگ برتر بسکتبال ایران به کار رود.</b>\n",
    "<br />\n",
    "<li><b><a href = \"https://www.basketball-reference.com/\"> وبسایت Basketball Refrence </a></b></li>\n",
    "<br />\n",
    "این وبسایت جامع ترین مرجع بررسی آمار ها و اطلاعات بسکتبال لیگ NBA و تیم های ملی بسکتبال جهان است. اطلاعاتی ارزشمند در این وبسایت وجود دارد که میتوان تسک های مختلفی روی این داده ها تعریف کرد، اما در این نوت بوک سعی داریم تا در تسک اول ابتدا میزان موفقیت هر تیم NBA را نسبت به دستمزدی که به بازیکنانشان میدهند بسنجیم، و سپس در تسک دوم از این اطلاعات برای مقایسه عملکرد بازیکنان ملی در لیگ برتر با بازیکنان رده ۱ جهانی در NBA مطلع بشویم. این تسک قطعا خیلی جالب خواهد بود! <br />\n",
    "توجه شود که در حال حاضر کتابخانه ای به نام <i>basketball_reference_web_scraper</i> وجود دارد که داده های این سایت را تا حد خوبی استخراج میکند، اما داده هایی که ما در این تسک ها نیاز داریم در این کتابخانه یافت نمیشود. با توجه به متن باز بودن این کتابخانه، در آینده میتوان این داده ها را به عنوان ویژگی جدید به توسعه دهنده این کتابخانه عرضه کرد.\n",
    "<br />\n",
    "<li><b><a href = \"https://www.varzesh3.com/news?SportType=4&StartDate=&EndDate=\">بخش اخبار بسکتبالی سایت ورزش ۳</a></b></li>\n",
    "<br />\n",
    "اطلاعات این وبسایت همواره بروز است و اخبار خارجی و داخلی را همزمان در اختیار ما قرار میدهد. میتوان با تحلیل اخبار این سایت، به مقایسه ای عمیق تر بین بسکتبال ایران و خارج از کشور پرداخت و فهمید که نام های خاص و عبارات کلیدی در اخبار بسکتبال کدام سمت بیشتر استفاده میشود. \n",
    "</ul>\n",
    "</div>"
   ]
  },
  {
   "cell_type": "markdown",
   "metadata": {},
   "source": [
    "<div dir=\"rtl\">\n",
    "<center>\n",
    "با اجرای بلوک زیر، کتابخانه های مورد نیاز برای \n",
    "</center>\n",
    "</div>"
   ]
  },
  {
   "cell_type": "code",
   "execution_count": 6,
   "metadata": {},
   "outputs": [],
   "source": [
    "from bs4 import BeautifulSoup\n",
    "import requests\n",
    "\n",
    "source = requests.get(\"http://iribf.ir/%d9%84%db%8c%da%af-%d8%a8%d8%b1%d8%aa%d8%b1-%d8%a2%d9%82%d8%a7%db%8c%d8%a7%d9%86-99-1400/\").text\n",
    "soup = BeautifulSoup(source, \"lxml\")\n",
    "# print(soup.prettify())"
   ]
  },
  {
   "cell_type": "code",
   "execution_count": 7,
   "metadata": {},
   "outputs": [
    {
     "name": "stdout",
     "output_type": "stream",
     "text": [
      "[{'team': <Team.ORLANDO_MAGIC: 'ORLANDO MAGIC'>, 'outcome': <Outcome.LOSS: 'LOSS'>, 'minutes_played': 240, 'made_field_goals': 35, 'attempted_field_goals': 96, 'made_three_point_field_goals': 6, 'attempted_three_point_field_goals': 31, 'made_free_throws': 19, 'attempted_free_throws': 25, 'offensive_rebounds': 19, 'defensive_rebounds': 33, 'assists': 16, 'steals': 5, 'blocks': 5, 'turnovers': 12, 'personal_fouls': 18, 'points': 95}, {'team': <Team.BROOKLYN_NETS: 'BROOKLYN NETS'>, 'outcome': <Outcome.WIN: 'WIN'>, 'minutes_played': 240, 'made_field_goals': 36, 'attempted_field_goals': 82, 'made_three_point_field_goals': 9, 'attempted_three_point_field_goals': 25, 'made_free_throws': 17, 'attempted_free_throws': 23, 'offensive_rebounds': 10, 'defensive_rebounds': 42, 'assists': 17, 'steals': 7, 'blocks': 10, 'turnovers': 13, 'personal_fouls': 22, 'points': 98}, {'team': <Team.PORTLAND_TRAIL_BLAZERS: 'PORTLAND TRAIL BLAZERS'>, 'outcome': <Outcome.WIN: 'WIN'>, 'minutes_played': 265, 'made_field_goals': 47, 'attempted_field_goals': 108, 'made_three_point_field_goals': 14, 'attempted_three_point_field_goals': 33, 'made_free_throws': 16, 'attempted_free_throws': 18, 'offensive_rebounds': 12, 'defensive_rebounds': 38, 'assists': 25, 'steals': 7, 'blocks': 5, 'turnovers': 8, 'personal_fouls': 16, 'points': 124}, {'team': <Team.CHICAGO_BULLS: 'CHICAGO BULLS'>, 'outcome': <Outcome.LOSS: 'LOSS'>, 'minutes_played': 265, 'made_field_goals': 45, 'attempted_field_goals': 104, 'made_three_point_field_goals': 11, 'attempted_three_point_field_goals': 27, 'made_free_throws': 19, 'attempted_free_throws': 23, 'offensive_rebounds': 15, 'defensive_rebounds': 43, 'assists': 28, 'steals': 5, 'blocks': 7, 'turnovers': 12, 'personal_fouls': 21, 'points': 120}, {'team': <Team.LOS_ANGELES_LAKERS: 'LOS ANGELES LAKERS'>, 'outcome': <Outcome.LOSS: 'LOSS'>, 'minutes_played': 240, 'made_field_goals': 34, 'attempted_field_goals': 76, 'made_three_point_field_goals': 8, 'attempted_three_point_field_goals': 26, 'made_free_throws': 20, 'attempted_free_throws': 29, 'offensive_rebounds': 9, 'defensive_rebounds': 28, 'assists': 18, 'steals': 12, 'blocks': 4, 'turnovers': 24, 'personal_fouls': 25, 'points': 96}, {'team': <Team.MINNESOTA_TIMBERWOLVES: 'MINNESOTA TIMBERWOLVES'>, 'outcome': <Outcome.WIN: 'WIN'>, 'minutes_played': 240, 'made_field_goals': 40, 'attempted_field_goals': 81, 'made_three_point_field_goals': 7, 'attempted_three_point_field_goals': 20, 'made_free_throws': 27, 'attempted_free_throws': 30, 'offensive_rebounds': 7, 'defensive_rebounds': 34, 'assists': 26, 'steals': 14, 'blocks': 5, 'turnovers': 17, 'personal_fouls': 24, 'points': 114}, {'team': <Team.MILWAUKEE_BUCKS: 'MILWAUKEE BUCKS'>, 'outcome': <Outcome.LOSS: 'LOSS'>, 'minutes_played': 265, 'made_field_goals': 44, 'attempted_field_goals': 93, 'made_three_point_field_goals': 13, 'attempted_three_point_field_goals': 27, 'made_free_throws': 26, 'attempted_free_throws': 28, 'offensive_rebounds': 10, 'defensive_rebounds': 33, 'assists': 27, 'steals': 9, 'blocks': 3, 'turnovers': 14, 'personal_fouls': 23, 'points': 127}, {'team': <Team.TORONTO_RAPTORS: 'TORONTO RAPTORS'>, 'outcome': <Outcome.WIN: 'WIN'>, 'minutes_played': 265, 'made_field_goals': 45, 'attempted_field_goals': 91, 'made_three_point_field_goals': 14, 'attempted_three_point_field_goals': 33, 'made_free_throws': 27, 'attempted_free_throws': 33, 'offensive_rebounds': 6, 'defensive_rebounds': 34, 'assists': 25, 'steals': 8, 'blocks': 8, 'turnovers': 12, 'personal_fouls': 20, 'points': 131}]\n"
     ]
    }
   ],
   "source": []
  }
 ],
 "metadata": {
  "interpreter": {
   "hash": "b0fa6594d8f4cbf19f97940f81e996739fb7646882a419484c72d19e05852a7e"
  },
  "kernelspec": {
   "display_name": "Python 3.9.10 64-bit",
   "language": "python",
   "name": "python3"
  },
  "language_info": {
   "codemirror_mode": {
    "name": "ipython",
    "version": 3
   },
   "file_extension": ".py",
   "mimetype": "text/x-python",
   "name": "python",
   "nbconvert_exporter": "python",
   "pygments_lexer": "ipython3",
   "version": "3.9.10"
  },
  "orig_nbformat": 4
 },
 "nbformat": 4,
 "nbformat_minor": 2
}
